{
 "cells": [
  {
   "cell_type": "code",
   "execution_count": 11,
   "metadata": {},
   "outputs": [
    {
     "name": "stdout",
     "output_type": "stream",
     "text": [
      "       Name   Birthdate   Salary   Join Date\n",
      "0     Alice  1990-01-01    50000  2010-01-15\n",
      "1       Bob  1992-02-30    60000  2011-02-20\n",
      "2   Charlie  1988/12/15    70000  2012/03/25\n",
      "3     David  15-03-1991      NaN  2013-04-30\n",
      "4       Eve  1995-07-25    80000         NaN\n",
      "5     Frank  12/31/1993    45000  2015-06-10\n",
      "6     Grace  1985-13-01    55000  2016-07-15\n",
      "7    Hannah  1998-04-31    65000  2017-08-20\n",
      "8       Ian  2000/11/23    75000     Invalid\n",
      "9      Jack  1997-02-28    85000  2019-10-25\n",
      "10     Kara  1996-05-05    50000  2020-11-30\n",
      "11     Liam  1987/06/21  Invalid  2021-12-01\n",
      "12     Mona  2001-09-12    68000         NaN\n",
      "13     Nina  1999-12-99    62000  2022-02-29\n",
      "14    Oscar  1989-02-29    72000  2018/01/10\n",
      "15     Paul  1994-03-12    52000  2017-07-07\n",
      "16    Quinn  1993-04-14    58000  2016-08-15\n",
      "17   Rachel  1988/07/25    54000  2015/09/20\n",
      "18    Steve  2002-08-32    56000  2014-10-10\n",
      "19     Tina  2003/10/10    53000  2013-05-15\n"
     ]
    }
   ],
   "source": [
    "# Data in a wrong format : to fix this problem there are two ways: removing the rows or convert all the cells in the same format\n",
    "import pandas as pd\n",
    "data=pd.read_csv('dirty_data.csv',encoding='latin1')\n",
    "print(data.to_string())\n"
   ]
  },
  {
   "cell_type": "code",
   "execution_count": 13,
   "metadata": {},
   "outputs": [
    {
     "name": "stdout",
     "output_type": "stream",
     "text": [
      "       Name   Birthdate   Salary  Join Date\n",
      "0     Alice  1990-01-01    50000 2010-01-15\n",
      "1       Bob  1992-02-30    60000 2011-02-20\n",
      "2   Charlie  1988/12/15    70000        NaT\n",
      "3     David  15-03-1991      NaN 2013-04-30\n",
      "4       Eve  1995-07-25    80000        NaT\n",
      "5     Frank  12/31/1993    45000 2015-06-10\n",
      "6     Grace  1985-13-01    55000 2016-07-15\n",
      "7    Hannah  1998-04-31    65000 2017-08-20\n",
      "8       Ian  2000/11/23    75000        NaT\n",
      "9      Jack  1997-02-28    85000 2019-10-25\n",
      "10     Kara  1996-05-05    50000 2020-11-30\n",
      "11     Liam  1987/06/21  Invalid 2021-12-01\n",
      "12     Mona  2001-09-12    68000        NaT\n",
      "13     Nina  1999-12-99    62000        NaT\n",
      "14    Oscar  1989-02-29    72000        NaT\n",
      "15     Paul  1994-03-12    52000 2017-07-07\n",
      "16    Quinn  1993-04-14    58000 2016-08-15\n",
      "17   Rachel  1988/07/25    54000        NaT\n",
      "18    Steve  2002-08-32    56000 2014-10-10\n",
      "19     Tina  2003/10/10    53000 2013-05-15\n"
     ]
    }
   ],
   "source": [
    "# Now we will convert all the data in the join date  column to date time format\n",
    "import pandas as pd\n",
    "data=pd.read_csv('dirty_data.csv')\n",
    "data[\"Join Date\"]=pd.to_datetime(data[\"Join Date\"],errors=\"coerce\")\n",
    "# this errors=\"coerce\" it converts all the values that cause errors int the tables to NaT(Not a Time) therefore making it easy for us to drop the values furthermore\n",
    "print(data.to_string())\n"
   ]
  },
  {
   "cell_type": "code",
   "execution_count": 14,
   "metadata": {},
   "outputs": [
    {
     "name": "stdout",
     "output_type": "stream",
     "text": [
      "      Name   Birthdate   Salary  Join Date\n",
      "0    Alice  1990-01-01    50000 2010-01-15\n",
      "1      Bob  1992-02-30    60000 2011-02-20\n",
      "3    David  15-03-1991      NaN 2013-04-30\n",
      "5    Frank  12/31/1993    45000 2015-06-10\n",
      "6    Grace  1985-13-01    55000 2016-07-15\n",
      "7   Hannah  1998-04-31    65000 2017-08-20\n",
      "9     Jack  1997-02-28    85000 2019-10-25\n",
      "10    Kara  1996-05-05    50000 2020-11-30\n",
      "11    Liam  1987/06/21  Invalid 2021-12-01\n",
      "15    Paul  1994-03-12    52000 2017-07-07\n",
      "16   Quinn  1993-04-14    58000 2016-08-15\n",
      "18   Steve  2002-08-32    56000 2014-10-10\n",
      "19    Tina  2003/10/10    53000 2013-05-15\n"
     ]
    }
   ],
   "source": [
    "# Now we will remove the rows with a null value in the \"Join Date\" column\n",
    "import pandas as pd\n",
    "data=pd.read_csv('dirty_data.csv')\n",
    "data[\"Join Date\"]=pd.to_datetime(data[\"Join Date\"],errors=\"coerce\")\n",
    "data.dropna(subset='Join Date',inplace=True)\n",
    "print(data.to_string())\n"
   ]
  },
  {
   "cell_type": "code",
   "execution_count": 18,
   "metadata": {},
   "outputs": [
    {
     "name": "stdout",
     "output_type": "stream",
     "text": [
      "     Name  Birthdate Salary   Join Date\n",
      "0   Alice 1990-01-01  50000  2010-01-15\n",
      "4     Eve 1995-07-25  80000         NaN\n",
      "9    Jack 1997-02-28  85000  2019-10-25\n",
      "10   Kara 1996-05-05  50000  2020-11-30\n",
      "12   Mona 2001-09-12  68000         NaN\n",
      "15   Paul 1994-03-12  52000  2017-07-07\n",
      "16  Quinn 1993-04-14  58000  2016-08-15\n"
     ]
    }
   ],
   "source": [
    "# Now we will remove the rows with a null value in the \"Birth Date\" column\n",
    "import pandas as pd\n",
    "data=pd.read_csv('dirty_data.csv')\n",
    "data[\"Birthdate\"]=pd.to_datetime(data[\"Birthdate\"],errors=\"coerce\")\n",
    "data.dropna(subset='Birthdate',inplace=True)\n",
    "print(data.to_string())\n"
   ]
  }
 ],
 "metadata": {
  "kernelspec": {
   "display_name": "Python 3",
   "language": "python",
   "name": "python3"
  },
  "language_info": {
   "codemirror_mode": {
    "name": "ipython",
    "version": 3
   },
   "file_extension": ".py",
   "mimetype": "text/x-python",
   "name": "python",
   "nbconvert_exporter": "python",
   "pygments_lexer": "ipython3",
   "version": "3.12.8"
  }
 },
 "nbformat": 4,
 "nbformat_minor": 2
}
