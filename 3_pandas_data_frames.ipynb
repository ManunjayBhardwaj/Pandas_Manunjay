{
 "cells": [
  {
   "cell_type": "code",
   "execution_count": 1,
   "metadata": {},
   "outputs": [
    {
     "name": "stdout",
     "output_type": "stream",
     "text": [
      "   cal  duration\n",
      "0  420        50\n",
      "1  320        40\n",
      "2  390        45\n"
     ]
    }
   ],
   "source": [
    "# Data Frames : it is a 2-D data structure like a 2-D array with table including rows and columns\n",
    "import pandas as pd\n",
    "a={\"cal\":[420,320,390],\"duration\":[50,40,45]}\n",
    "a1=pd.DataFrame(a)\n",
    "print(a1)\n"
   ]
  },
  {
   "cell_type": "code",
   "execution_count": 4,
   "metadata": {},
   "outputs": [
    {
     "name": "stdout",
     "output_type": "stream",
     "text": [
      "cal_1         420\n",
      "duration_1     50\n",
      "Name: 0, dtype: int64\n"
     ]
    }
   ],
   "source": [
    "# Locate row \n",
    "# pandas use the loc to return one or more specified row.\n",
    "import pandas as pd\n",
    "b={\"cal_1\":[420,320,390],\"duration_1\":[50,40,45]}\n",
    "b1=pd.DataFrame(b)\n",
    "print(b1.loc[0]) # this prints the whole first row \n",
    "\n"
   ]
  },
  {
   "cell_type": "code",
   "execution_count": 5,
   "metadata": {},
   "outputs": [
    {
     "name": "stdout",
     "output_type": "stream",
     "text": [
      "   cal_1  duration_1\n",
      "0    420          50\n",
      "1    320          40\n"
     ]
    }
   ],
   "source": [
    "# Example of returning row 0 and 1\n",
    "# Locate row \n",
    "# pandas use the loc to return one or more specified row.\n",
    "import pandas as pd\n",
    "b={\"cal_1\":[420,320,390],\"duration_1\":[50,40,45]}\n",
    "b1=pd.DataFrame(b)\n",
    "print(b1.loc[[0,1]])\n",
    "# to take output as a dataframe we pass a 2-D array because if we pass a single dimension array we will recieve output as series\n",
    "\n"
   ]
  },
  {
   "cell_type": "code",
   "execution_count": 10,
   "metadata": {},
   "outputs": [
    {
     "name": "stdout",
     "output_type": "stream",
     "text": [
      "      cal_1  duration_1\n",
      "Day1    420          50\n",
      "Day2    320          40\n",
      "Day3    390          45\n",
      "      cal_1  duration_1\n",
      "Day1    420          50\n"
     ]
    }
   ],
   "source": [
    "# Named Index: with the index arguement you can name your own index \n",
    "# Locate row \n",
    "# pandas use the loc to return one or more specified row.\n",
    "import pandas as pd\n",
    "b={\"cal_1\":[420,320,390],\"duration_1\":[50,40,45]}\n",
    "b1=pd.DataFrame(b,index=[\"Day1\",\"Day2\",\"Day3\"])\n",
    "print(b1)\n",
    "\n",
    "# now we can use the loc function using the new named index also\n",
    "print(b1.loc[[\"Day1\"]])"
   ]
  },
  {
   "cell_type": "code",
   "execution_count": null,
   "metadata": {},
   "outputs": [],
   "source": [
    "# Output in a dataframe\n",
    "import pandas as pd\n",
    "b={\"cal_1\":[420,320,390],\"duration_1\":[50,40,45]}\n",
    "b1=pd.DataFrame(b,index=[\"Day1\",\"Day2\",\"Day3\"])\n",
    "print(b1.loc[[\"Day1\",\"Day2\"]])"
   ]
  },
  {
   "cell_type": "code",
   "execution_count": null,
   "metadata": {},
   "outputs": [],
   "source": [
    "# Load the data from the csv file into data frame i.e data csv\n",
    "import pandas as pd\n",
    "a=pd.read_csv(\"\")# Inside the inverted commas we have to pass the path of the csv\n"
   ]
  }
 ],
 "metadata": {
  "kernelspec": {
   "display_name": "Python 3",
   "language": "python",
   "name": "python3"
  },
  "language_info": {
   "codemirror_mode": {
    "name": "ipython",
    "version": 3
   },
   "file_extension": ".py",
   "mimetype": "text/x-python",
   "name": "python",
   "nbconvert_exporter": "python",
   "pygments_lexer": "ipython3",
   "version": "3.12.8"
  }
 },
 "nbformat": 4,
 "nbformat_minor": 2
}
