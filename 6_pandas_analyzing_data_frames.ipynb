{
 "cells": [
  {
   "cell_type": "code",
   "execution_count": 1,
   "metadata": {},
   "outputs": [
    {
     "name": "stdout",
     "output_type": "stream",
     "text": [
      "                        name mfr type  calories  protein  fat  sodium  fiber  \\\n",
      "0                  100% Bran   N    C        70        4    1     130   10.0   \n",
      "1          100% Natural Bran   Q    C       120        3    5      15    2.0   \n",
      "2                   All-Bran   K    C        70        4    1     260    9.0   \n",
      "3  All-Bran with Extra Fiber   K    C        50        4    0     140   14.0   \n",
      "4             Almond Delight   R    C       110        2    2     200    1.0   \n",
      "5    Apple Cinnamon Cheerios   G    C       110        2    2     180    1.5   \n",
      "6                Apple Jacks   K    C       110        2    0     125    1.0   \n",
      "7                    Basic 4   G    C       130        3    2     210    2.0   \n",
      "8                  Bran Chex   R    C        90        2    1     200    4.0   \n",
      "9                Bran Flakes   P    C        90        3    0     210    5.0   \n",
      "\n",
      "   carbo  sugars  potass  vitamins  shelf  weight  cups     rating  \n",
      "0    5.0       6     280        25      3    1.00  0.33  68.402973  \n",
      "1    8.0       8     135         0      3    1.00  1.00  33.983679  \n",
      "2    7.0       5     320        25      3    1.00  0.33  59.425505  \n",
      "3    8.0       0     330        25      3    1.00  0.50  93.704912  \n",
      "4   14.0       8      -1        25      3    1.00  0.75  34.384843  \n",
      "5   10.5      10      70        25      1    1.00  0.75  29.509541  \n",
      "6   11.0      14      30        25      2    1.00  1.00  33.174094  \n",
      "7   18.0       8     100        25      3    1.33  0.75  37.038562  \n",
      "8   15.0       6     125        25      1    1.00  0.67  49.120253  \n",
      "9   13.0       5     190        25      3    1.00  0.67  53.313813  \n"
     ]
    }
   ],
   "source": [
    "# Viewing the data : one of the most used method for quick overview of the data frame is the head() method\n",
    "# this method returns the method and the specified numbers of rows\n",
    "\n",
    "# here we will print the first 1st 10 rows in the data frame\n",
    "import pandas as pd \n",
    "a=pd.read_csv('cereal.csv')\n",
    "print(a.head(10))\n",
    "\n",
    "\n"
   ]
  },
  {
   "cell_type": "code",
   "execution_count": 2,
   "metadata": {},
   "outputs": [
    {
     "name": "stdout",
     "output_type": "stream",
     "text": [
      "                       name mfr type  calories  protein  fat  sodium  fiber  \\\n",
      "67                Special K   K    C       110        6    0     230    1.0   \n",
      "68  Strawberry Fruit Wheats   N    C        90        2    0      15    3.0   \n",
      "69        Total Corn Flakes   G    C       110        2    1     200    0.0   \n",
      "70        Total Raisin Bran   G    C       140        3    1     190    4.0   \n",
      "71        Total Whole Grain   G    C       100        3    1     200    3.0   \n",
      "72                  Triples   G    C       110        2    1     250    0.0   \n",
      "73                     Trix   G    C       110        1    1     140    0.0   \n",
      "74               Wheat Chex   R    C       100        3    1     230    3.0   \n",
      "75                 Wheaties   G    C       100        3    1     200    3.0   \n",
      "76      Wheaties Honey Gold   G    C       110        2    1     200    1.0   \n",
      "\n",
      "    carbo  sugars  potass  vitamins  shelf  weight  cups     rating  \n",
      "67   16.0       3      55        25      1     1.0  1.00  53.131324  \n",
      "68   15.0       5      90        25      2     1.0  1.00  59.363993  \n",
      "69   21.0       3      35       100      3     1.0  1.00  38.839746  \n",
      "70   15.0      14     230       100      3     1.5  1.00  28.592785  \n",
      "71   16.0       3     110       100      3     1.0  1.00  46.658844  \n",
      "72   21.0       3      60        25      3     1.0  0.75  39.106174  \n",
      "73   13.0      12      25        25      2     1.0  1.00  27.753301  \n",
      "74   17.0       3     115        25      1     1.0  0.67  49.787445  \n",
      "75   17.0       3     110        25      1     1.0  1.00  51.592193  \n",
      "76   16.0       8      60        25      1     1.0  0.75  36.187559  \n"
     ]
    }
   ],
   "source": [
    "# here we will print the last 10 rows in the dataframe\n",
    "import pandas as pd \n",
    "a=pd.read_csv('cereal.csv')\n",
    "print(a.tail(10))\n"
   ]
  },
  {
   "cell_type": "code",
   "execution_count": 4,
   "metadata": {},
   "outputs": [
    {
     "name": "stdout",
     "output_type": "stream",
     "text": [
      "<class 'pandas.core.frame.DataFrame'>\n",
      "RangeIndex: 77 entries, 0 to 76\n",
      "Data columns (total 16 columns):\n",
      " #   Column    Non-Null Count  Dtype  \n",
      "---  ------    --------------  -----  \n",
      " 0   name      77 non-null     object \n",
      " 1   mfr       77 non-null     object \n",
      " 2   type      77 non-null     object \n",
      " 3   calories  77 non-null     int64  \n",
      " 4   protein   77 non-null     int64  \n",
      " 5   fat       77 non-null     int64  \n",
      " 6   sodium    77 non-null     int64  \n",
      " 7   fiber     77 non-null     float64\n",
      " 8   carbo     77 non-null     float64\n",
      " 9   sugars    77 non-null     int64  \n",
      " 10  potass    77 non-null     int64  \n",
      " 11  vitamins  77 non-null     int64  \n",
      " 12  shelf     77 non-null     int64  \n",
      " 13  weight    77 non-null     float64\n",
      " 14  cups      77 non-null     float64\n",
      " 15  rating    77 non-null     float64\n",
      "dtypes: float64(5), int64(8), object(3)\n",
      "memory usage: 9.8+ KB\n",
      "None\n"
     ]
    }
   ],
   "source": [
    "# What if you want the information about the data in the dataframe: via info()\n",
    "import pandas as pd \n",
    "a=pd.read_csv('cereal.csv')\n",
    "print(a.info())\n"
   ]
  }
 ],
 "metadata": {
  "kernelspec": {
   "display_name": "Python 3",
   "language": "python",
   "name": "python3"
  },
  "language_info": {
   "codemirror_mode": {
    "name": "ipython",
    "version": 3
   },
   "file_extension": ".py",
   "mimetype": "text/x-python",
   "name": "python",
   "nbconvert_exporter": "python",
   "pygments_lexer": "ipython3",
   "version": "3.12.8"
  }
 },
 "nbformat": 4,
 "nbformat_minor": 2
}
