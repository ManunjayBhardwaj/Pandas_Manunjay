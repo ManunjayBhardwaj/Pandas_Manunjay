{
 "cells": [
  {
   "cell_type": "code",
   "execution_count": 3,
   "metadata": {},
   "outputs": [
    {
     "name": "stdout",
     "output_type": "stream",
     "text": [
      "             Name  Age   Join Date  Salary\n",
      "0        John Doe   25  2021-06-15   50000\n",
      "1      Jane Smith   30  2020-11-23   60000\n",
      "2        John Doe   25  2021-06-15   50000\n",
      "3    Mark Johnson   35  2019-02-12   70000\n",
      "4     Emily Davis   28  2022-01-05   55000\n",
      "5        John Doe   25  2021-06-15   50000\n",
      "6      Jane Smith   30  2020-11-23   60000\n",
      "7   Michael Brown   40  2018-09-17   80000\n",
      "8     Emily Davis   28  2022-01-05   55000\n",
      "9        John Doe   25  2021-06-15   50000\n",
      "10    Susan White   33  2017-03-22   65000\n",
      "11   Mark Johnson   35  2019-02-12   70000\n",
      "12      David Lee   38  2021-07-19   75000\n",
      "13    Susan White   33  2017-03-22   65000\n",
      "14  Michael Brown   40  2018-09-17   80000\n",
      "15      David Lee   38  2021-07-19   75000\n",
      "16  Jessica Green   27  2023-05-03   52000\n",
      "17  Jessica Green   27  2023-05-03   52000\n",
      "18   George Black   50  2015-04-01   90000\n",
      "19   George Black   50  2015-04-01   90000\n"
     ]
    }
   ],
   "source": [
    "# Removing the duplicate values : 1st you need to discover the duplicate values via duplicate() method\n",
    "import pandas as pd\n",
    "data=pd.read_csv('duplicates.csv',encoding='latin1')\n",
    "print(data.to_string())\n"
   ]
  },
  {
   "cell_type": "code",
   "execution_count": 7,
   "metadata": {},
   "outputs": [
    {
     "name": "stdout",
     "output_type": "stream",
     "text": [
      "             Name  Age   Join Date  Salary\n",
      "0        John Doe   25  2021-06-15   50000\n",
      "1      Jane Smith   30  2020-11-23   60000\n",
      "3    Mark Johnson   35  2019-02-12   70000\n",
      "4     Emily Davis   28  2022-01-05   55000\n",
      "7   Michael Brown   40  2018-09-17   80000\n",
      "10    Susan White   33  2017-03-22   65000\n",
      "12      David Lee   38  2021-07-19   75000\n",
      "16  Jessica Green   27  2023-05-03   52000\n",
      "18   George Black   50  2015-04-01   90000\n"
     ]
    }
   ],
   "source": [
    "# Returns true for every row that is duplicate  otherwise return false\n",
    "import pandas as pd\n",
    "data=pd.read_csv('duplicates.csv',encoding='latin1')\n",
    "# print(data.duplicated())# this considers the first value to be original while the next same value to be a duplicate\n",
    "# This duplicated creates a boolean matrix based upon occurrence\n",
    "\n",
    "# remove the duplicate from the data set via drop_duplicates()\n",
    "data.drop_duplicates(inplace=True)\n",
    "print(data.to_string())\n",
    "# Therefore we get the below output without any duplicate values"
   ]
  }
 ],
 "metadata": {
  "kernelspec": {
   "display_name": "Python 3",
   "language": "python",
   "name": "python3"
  },
  "language_info": {
   "codemirror_mode": {
    "name": "ipython",
    "version": 3
   },
   "file_extension": ".py",
   "mimetype": "text/x-python",
   "name": "python",
   "nbconvert_exporter": "python",
   "pygments_lexer": "ipython3",
   "version": "3.12.8"
  }
 },
 "nbformat": 4,
 "nbformat_minor": 2
}
