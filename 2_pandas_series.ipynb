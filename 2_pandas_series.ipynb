{
 "cells": [
  {
   "cell_type": "code",
   "execution_count": 2,
   "metadata": {},
   "outputs": [
    {
     "name": "stdout",
     "output_type": "stream",
     "text": [
      "0    1\n",
      "1    7\n",
      "2    2\n",
      "dtype: int64\n"
     ]
    }
   ],
   "source": [
    "# A pandas series is like a column in a table,it is 1-D array which holds data of any type\n",
    "#here we will create a simple pandas series\n",
    "import pandas as pd\n",
    "a=[1,7,2]\n",
    "a1=pd.Series(a)\n",
    "print(a1)\n",
    "# This comes with indexing\n"
   ]
  },
  {
   "cell_type": "code",
   "execution_count": 3,
   "metadata": {},
   "outputs": [
    {
     "name": "stdout",
     "output_type": "stream",
     "text": [
      "1\n"
     ]
    }
   ],
   "source": [
    "# Labelling -  label can be used to access a specified value\n",
    "import pandas as pd\n",
    "b=[1,7,2]\n",
    "b1=pd.Series(a)\n",
    "print(b1[0])# using indexing just like arrays"
   ]
  },
  {
   "cell_type": "code",
   "execution_count": 6,
   "metadata": {},
   "outputs": [
    {
     "name": "stdout",
     "output_type": "stream",
     "text": [
      "1\n"
     ]
    }
   ],
   "source": [
    "# With create tabel you can create your name labels\n",
    "# we changed the values of indexing by doing this\n",
    "import pandas as pd\n",
    "c=[1,7,2]\n",
    "c1=pd.Series(c,index=[\"x\",\"y\",\"z\"])\n",
    "print(c1[\"x\"])# we can access the values like this"
   ]
  },
  {
   "cell_type": "code",
   "execution_count": 7,
   "metadata": {},
   "outputs": [
    {
     "name": "stdout",
     "output_type": "stream",
     "text": [
      "day1    420\n",
      "day2    345\n",
      "day3    450\n",
      "dtype: int64\n"
     ]
    }
   ],
   "source": [
    "# you can use a key or value object like dictionary, when creating a series\n",
    "# here we will create a simple pandas series from a dictionary\n",
    "import pandas as pd\n",
    "cal={\"day1\":420,\"day2\":345,\"day3\":450,}\n",
    "d=pd.Series(cal)\n",
    "print(d)"
   ]
  },
  {
   "cell_type": "code",
   "execution_count": 3,
   "metadata": {},
   "outputs": [
    {
     "name": "stdout",
     "output_type": "stream",
     "text": [
      "day1    420\n",
      "day2    345\n",
      "dtype: int64\n"
     ]
    }
   ],
   "source": [
    "# Now we will create a series using only data from day 1 and day 2\n",
    "import pandas as pd\n",
    "cal_1={\"day1\":420,\"day2\":345,\"day3\":450,}\n",
    "e=pd.Series(cal_1,index=[\"day1\",\"day2\"])\n",
    "print(e)\n",
    "\n"
   ]
  },
  {
   "cell_type": "code",
   "execution_count": 4,
   "metadata": {},
   "outputs": [
    {
     "name": "stdout",
     "output_type": "stream",
     "text": [
      "   Cal  Duration\n",
      "0  420        50\n",
      "1  380        45\n",
      "2  390        45\n"
     ]
    }
   ],
   "source": [
    "# Data Frame : Data sets in pandas are usually multidimensional tables and they are called dataframes\n",
    "# Series are like columns and dataframes is the whole table\n",
    "\n",
    "# We will now create a data frame from 2 series\n",
    "\n",
    "import pandas as pd\n",
    "f={\"Cal\":[420,380,390],\"Duration\":[50,45,45]}\n",
    "f1=pd.DataFrame(f)\n",
    "print(f1)"
   ]
  }
 ],
 "metadata": {
  "kernelspec": {
   "display_name": "Python 3",
   "language": "python",
   "name": "python3"
  },
  "language_info": {
   "codemirror_mode": {
    "name": "ipython",
    "version": 3
   },
   "file_extension": ".py",
   "mimetype": "text/x-python",
   "name": "python",
   "nbconvert_exporter": "python",
   "pygments_lexer": "ipython3",
   "version": "3.12.8"
  }
 },
 "nbformat": 4,
 "nbformat_minor": 2
}
