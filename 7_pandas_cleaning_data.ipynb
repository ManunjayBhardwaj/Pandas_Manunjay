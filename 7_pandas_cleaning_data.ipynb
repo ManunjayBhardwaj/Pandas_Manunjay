{
 "cells": [
  {
   "cell_type": "code",
   "execution_count": null,
   "metadata": {},
   "outputs": [
    {
     "name": "stdout",
     "output_type": "stream",
     "text": [
      "                                     movie_title  num_critic_for_reviews  \\\n",
      "0                                       Avatar?ÿ                     723   \n",
      "1     Pirates of the Caribbean: At World's End?ÿ                     302   \n",
      "2                                      Spectre?ÿ                     602   \n",
      "3                        The Dark Knight Rises?ÿ                     813   \n",
      "4                                  John Carter?ÿ                     462   \n",
      "5                                 Spider-Man 3?ÿ                     392   \n",
      "6                                      Tangled?ÿ                     324   \n",
      "7                      Avengers: Age of Ultron?ÿ                     635   \n",
      "8                      Avengers: Age of Ultron?ÿ                     635   \n",
      "9       Harry Potter and the Half-Blood Prince?ÿ                     375   \n",
      "10          Batman v Superman: Dawn of Justice?ÿ                     673   \n",
      "11                            Superman Returns?ÿ                     434   \n",
      "12                           Quantum of Solace?ÿ                     403   \n",
      "13  Pirates of the Caribbean: Dead Man's Chest?ÿ                     313   \n",
      "\n",
      "    duration DIRECTOR_facebook_likes  actor_3_facebook_likes  \\\n",
      "0      178.0                      10                     855   \n",
      "1        NaN                     563                    1000   \n",
      "2      148.0                      20                     161   \n",
      "3        NaN                   22000                   23000   \n",
      "4      132.0                   \"475\"                     530   \n",
      "5      156.0                      23                    4000   \n",
      "6        NaN                      15                     284   \n",
      "7      141.0                      10                   19000   \n",
      "8      141.0                      10                   19000   \n",
      "9      153.0                     282                   10000   \n",
      "10     183.0                     NaN                    2000   \n",
      "11     169.0                     NaN                     903   \n",
      "12     106.0                     395                     393   \n",
      "13     151.0                     563                    1000   \n",
      "\n",
      "    ACTOR_1_facebook_likes      gross  num_voted_users  \\\n",
      "0                     1000  760505847         886204.0   \n",
      "1                    40000  309404152         471220.0   \n",
      "2                    11000  200074175         275868.0   \n",
      "3                    27000  448130642        1144337.0   \n",
      "4                      640   73058679         212204.0   \n",
      "5                    24000  336530303         383056.0   \n",
      "6                      799  200807262         294810.0   \n",
      "7                    26000  458991599         462669.0   \n",
      "8                    26000  458991599         462669.0   \n",
      "9                    25000  301956980         321795.0   \n",
      "10                   15000  330249062              NaN   \n",
      "11                   18000  200069408         240396.0   \n",
      "12                     451  168368427         330784.0   \n",
      "13                   40000  423032628         522040.0   \n",
      "\n",
      "    Cast_Total_facebook_likes  facenumber_in_poster  num_user_for_reviews  \\\n",
      "0                      4834.0                   NaN                  3054   \n",
      "1                     48350.0                   NaN                  1238   \n",
      "2                     11700.0                   1.0                   994   \n",
      "3                    106759.0                   NaN                  2701   \n",
      "4                      1873.0                   1.0                   738   \n",
      "5                     46055.0                   NaN                  1902   \n",
      "6                         NaN                   1.0                   387   \n",
      "7                     92000.0                   4.0                  1117   \n",
      "8                     92000.0                   4.0                  1117   \n",
      "9                     58753.0                   3.0                   973   \n",
      "10                    24450.0                   NaN                  3018   \n",
      "11                        NaN                   2.0                  2367   \n",
      "12                     2023.0                   1.0                  1243   \n",
      "13                    48486.0                   2.0                  1832   \n",
      "\n",
      "       budget  title_year  ACTOR_2_facebook_likes  imdb_score  title_year.1  \n",
      "0   237000000        2009                   936.0         7.9        2009.0  \n",
      "1   300000000        2007                  5000.0         7.1           NaN  \n",
      "2   245000000        2015                   393.0         6.8        2015.0  \n",
      "3   250000000        2012                 23000.0         8.5           NaN  \n",
      "4   263700000        2012                   632.0         6.6           NaN  \n",
      "5   258000000        2007                 11000.0         6.2        2007.0  \n",
      "6   260000000        2010                   553.0         7.8           NaN  \n",
      "7   250000000        2015                 21000.0         7.5           NaN  \n",
      "8   250000000        2015                 21000.0         7.5        2015.0  \n",
      "9   250000000        2009                 11000.0         7.5           NaN  \n",
      "10  250000000        2016                     NaN         6.9        2016.0  \n",
      "11  209000000        2006                 10000.0         6.1           NaN  \n",
      "12  200000000        2008                   412.0         6.7        2008.0  \n",
      "13  225000000        2006                  5000.0         7.3        2008.0  \n"
     ]
    }
   ],
   "source": [
    "\n",
    "# Cleaning data : it means fixing the bad data in your data set\n",
    "# Bad data could be : empty cell,data in the wrong format ,duplicate data and wrong data\n",
    "# Empty cell wil give you wrong results always,we will have to remove the rows always that contain the bad data \n",
    "# here we will create a new data frame with no empty set first we will print the original data set\n",
    "import pandas as pd\n",
    "data=pd.read_csv('unclean_data.csv',encoding='latin1')\n",
    "print(data)\n"
   ]
  },
  {
   "cell_type": "code",
   "execution_count": 9,
   "metadata": {},
   "outputs": [
    {
     "name": "stdout",
     "output_type": "stream",
     "text": [
      "                                     movie_title  num_critic_for_reviews  duration DIRECTOR_facebook_likes  actor_3_facebook_likes  ACTOR_1_facebook_likes      gross  num_voted_users  Cast_Total_facebook_likes  facenumber_in_poster  num_user_for_reviews     budget  title_year  ACTOR_2_facebook_likes  imdb_score  title_year.1\n",
      "2                                      Spectre?ÿ                     602     148.0                      20                     161                   11000  200074175         275868.0                    11700.0                   1.0                   994  245000000        2015                   393.0         6.8        2015.0\n",
      "8                      Avengers: Age of Ultron?ÿ                     635     141.0                      10                   19000                   26000  458991599         462669.0                    92000.0                   4.0                  1117  250000000        2015                 21000.0         7.5        2015.0\n",
      "12                           Quantum of Solace?ÿ                     403     106.0                     395                     393                     451  168368427         330784.0                     2023.0                   1.0                  1243  200000000        2008                   412.0         6.7        2008.0\n",
      "13  Pirates of the Caribbean: Dead Man's Chest?ÿ                     313     151.0                     563                    1000                   40000  423032628         522040.0                    48486.0                   2.0                  1832  225000000        2006                  5000.0         7.3        2008.0\n"
     ]
    }
   ],
   "source": [
    "# Cleaning data : it means fixing the bad data in your data set\n",
    "# Bad data could be : empty cell,data in the wrong format ,duplicate data and wrong data\n",
    "# Empty cell wil give you wrong results always,we will have to remove the rows always that contain the bad data \n",
    "# here we will create a new data frame with no empty set first we will print the original data set\n",
    "import pandas as pd\n",
    "data=pd.read_csv('unclean_data.csv',encoding='latin1')\n",
    "clean_data=data.dropna()\n",
    "print(clean_data.to_string())\n",
    "\n",
    "# this dropna() function drops all NaN values meaning empty cell\n",
    "# we have done encoding ='latin1' because the pd.read_csv reads a certain type of data\n"
   ]
  },
  {
   "cell_type": "code",
   "execution_count": 12,
   "metadata": {},
   "outputs": [
    {
     "name": "stdout",
     "output_type": "stream",
     "text": [
      "                                     movie_title  num_critic_for_reviews  duration DIRECTOR_facebook_likes  actor_3_facebook_likes  ACTOR_1_facebook_likes      gross  num_voted_users  Cast_Total_facebook_likes  facenumber_in_poster  num_user_for_reviews     budget  title_year  ACTOR_2_facebook_likes  imdb_score  title_year.1\n",
      "2                                      Spectre?ÿ                     602     148.0                      20                     161                   11000  200074175         275868.0                    11700.0                   1.0                   994  245000000        2015                   393.0         6.8        2015.0\n",
      "8                      Avengers: Age of Ultron?ÿ                     635     141.0                      10                   19000                   26000  458991599         462669.0                    92000.0                   4.0                  1117  250000000        2015                 21000.0         7.5        2015.0\n",
      "12                           Quantum of Solace?ÿ                     403     106.0                     395                     393                     451  168368427         330784.0                     2023.0                   1.0                  1243  200000000        2008                   412.0         6.7        2008.0\n",
      "13  Pirates of the Caribbean: Dead Man's Chest?ÿ                     313     151.0                     563                    1000                   40000  423032628         522040.0                    48486.0                   2.0                  1832  225000000        2006                  5000.0         7.3        2008.0\n"
     ]
    }
   ],
   "source": [
    "# if you want to change the original dataframe, we will use the inplace=True arguement\n",
    "# it will remove the rows containing the null values: NaN (Not a Number)\n",
    "import pandas as pd\n",
    "data=pd.read_csv('unclean_data.csv',encoding='latin1')\n",
    "data.dropna(inplace=True)\n",
    "print(data.to_string())"
   ]
  },
  {
   "cell_type": "code",
   "execution_count": 16,
   "metadata": {},
   "outputs": [
    {
     "name": "stdout",
     "output_type": "stream",
     "text": [
      "                                     movie_title  num_critic_for_reviews  duration DIRECTOR_facebook_likes  actor_3_facebook_likes  ACTOR_1_facebook_likes      gross  num_voted_users  Cast_Total_facebook_likes  facenumber_in_poster  num_user_for_reviews     budget  title_year  ACTOR_2_facebook_likes  imdb_score  title_year.1\n",
      "0                                       Avatar?ÿ                     723     178.0                      10                     855                    1000  760505847         886204.0                     4834.0                   0.0                  3054  237000000        2009                   936.0         7.9        2009.0\n",
      "1     Pirates of the Caribbean: At World's End?ÿ                     302       0.0                     563                    1000                   40000  309404152         471220.0                    48350.0                   0.0                  1238  300000000        2007                  5000.0         7.1           0.0\n",
      "2                                      Spectre?ÿ                     602     148.0                      20                     161                   11000  200074175         275868.0                    11700.0                   1.0                   994  245000000        2015                   393.0         6.8        2015.0\n",
      "3                        The Dark Knight Rises?ÿ                     813       0.0                   22000                   23000                   27000  448130642        1144337.0                   106759.0                   0.0                  2701  250000000        2012                 23000.0         8.5           0.0\n",
      "4                                  John Carter?ÿ                     462     132.0                   \"475\"                     530                     640   73058679         212204.0                     1873.0                   1.0                   738  263700000        2012                   632.0         6.6           0.0\n",
      "5                                 Spider-Man 3?ÿ                     392     156.0                      23                    4000                   24000  336530303         383056.0                    46055.0                   0.0                  1902  258000000        2007                 11000.0         6.2        2007.0\n",
      "6                                      Tangled?ÿ                     324       0.0                      15                     284                     799  200807262         294810.0                        0.0                   1.0                   387  260000000        2010                   553.0         7.8           0.0\n",
      "7                      Avengers: Age of Ultron?ÿ                     635     141.0                      10                   19000                   26000  458991599         462669.0                    92000.0                   4.0                  1117  250000000        2015                 21000.0         7.5           0.0\n",
      "8                      Avengers: Age of Ultron?ÿ                     635     141.0                      10                   19000                   26000  458991599         462669.0                    92000.0                   4.0                  1117  250000000        2015                 21000.0         7.5        2015.0\n",
      "9       Harry Potter and the Half-Blood Prince?ÿ                     375     153.0                     282                   10000                   25000  301956980         321795.0                    58753.0                   3.0                   973  250000000        2009                 11000.0         7.5           0.0\n",
      "10          Batman v Superman: Dawn of Justice?ÿ                     673     183.0                       0                    2000                   15000  330249062              0.0                    24450.0                   0.0                  3018  250000000        2016                     0.0         6.9        2016.0\n",
      "11                            Superman Returns?ÿ                     434     169.0                       0                     903                   18000  200069408         240396.0                        0.0                   2.0                  2367  209000000        2006                 10000.0         6.1           0.0\n",
      "12                           Quantum of Solace?ÿ                     403     106.0                     395                     393                     451  168368427         330784.0                     2023.0                   1.0                  1243  200000000        2008                   412.0         6.7        2008.0\n",
      "13  Pirates of the Caribbean: Dead Man's Chest?ÿ                     313     151.0                     563                    1000                   40000  423032628         522040.0                    48486.0                   2.0                  1832  225000000        2006                  5000.0         7.3        2008.0\n"
     ]
    }
   ],
   "source": [
    "# replacing the empty value : we will use the fillna() method which will allow us to replace the empty cell with a value\n",
    "import pandas as pd\n",
    "data=pd.read_csv('unclean_data.csv',encoding='latin1')\n",
    "data.fillna(0,inplace=True)\n",
    "print(data.to_string())"
   ]
  },
  {
   "cell_type": "code",
   "execution_count": 17,
   "metadata": {},
   "outputs": [
    {
     "name": "stdout",
     "output_type": "stream",
     "text": [
      "                                     movie_title  num_critic_for_reviews  duration DIRECTOR_facebook_likes  actor_3_facebook_likes  ACTOR_1_facebook_likes      gross  num_voted_users  Cast_Total_facebook_likes  facenumber_in_poster  num_user_for_reviews     budget  title_year  ACTOR_2_facebook_likes  imdb_score  title_year.1\n",
      "0                                       Avatar?ÿ                     723     178.0                      10                     855                    1000  760505847         886204.0                     4834.0                   NaN                  3054  237000000        2009                   936.0         7.9        2009.0\n",
      "1     Pirates of the Caribbean: At World's End?ÿ                     302       NaN                     563                    1000                   40000  309404152         471220.0                    48350.0                   NaN                  1238  300000000        2007                  5000.0         7.1           NaN\n",
      "2                                      Spectre?ÿ                     602     148.0                      20                     161                   11000  200074175         275868.0                    11700.0                   1.0                   994  245000000        2015                   393.0         6.8        2015.0\n",
      "3                        The Dark Knight Rises?ÿ                     813       NaN                   22000                   23000                   27000  448130642        1144337.0                   106759.0                   NaN                  2701  250000000        2012                 23000.0         8.5           NaN\n",
      "4                                  John Carter?ÿ                     462     132.0                   \"475\"                     530                     640   73058679         212204.0                     1873.0                   1.0                   738  263700000        2012                   632.0         6.6           NaN\n",
      "5                                 Spider-Man 3?ÿ                     392     156.0                      23                    4000                   24000  336530303         383056.0                    46055.0                   NaN                  1902  258000000        2007                 11000.0         6.2        2007.0\n",
      "6                                      Tangled?ÿ                     324       NaN                      15                     284                     799  200807262         294810.0                        NaN                   1.0                   387  260000000        2010                   553.0         7.8           NaN\n",
      "7                      Avengers: Age of Ultron?ÿ                     635     141.0                      10                   19000                   26000  458991599         462669.0                    92000.0                   4.0                  1117  250000000        2015                 21000.0         7.5           NaN\n",
      "8                      Avengers: Age of Ultron?ÿ                     635     141.0                      10                   19000                   26000  458991599         462669.0                    92000.0                   4.0                  1117  250000000        2015                 21000.0         7.5        2015.0\n",
      "9       Harry Potter and the Half-Blood Prince?ÿ                     375     153.0                     282                   10000                   25000  301956980         321795.0                    58753.0                   3.0                   973  250000000        2009                 11000.0         7.5           NaN\n",
      "10          Batman v Superman: Dawn of Justice?ÿ                     673     183.0                       0                    2000                   15000  330249062              NaN                    24450.0                   NaN                  3018  250000000        2016                     NaN         6.9        2016.0\n",
      "11                            Superman Returns?ÿ                     434     169.0                       0                     903                   18000  200069408         240396.0                        NaN                   2.0                  2367  209000000        2006                 10000.0         6.1           NaN\n",
      "12                           Quantum of Solace?ÿ                     403     106.0                     395                     393                     451  168368427         330784.0                     2023.0                   1.0                  1243  200000000        2008                   412.0         6.7        2008.0\n",
      "13  Pirates of the Caribbean: Dead Man's Chest?ÿ                     313     151.0                     563                    1000                   40000  423032628         522040.0                    48486.0                   2.0                  1832  225000000        2006                  5000.0         7.3        2008.0\n"
     ]
    },
    {
     "name": "stderr",
     "output_type": "stream",
     "text": [
      "/var/folders/cz/jms94_kj7v552q9spmvhms3m0000gn/T/ipykernel_4098/716697758.py:4: FutureWarning: A value is trying to be set on a copy of a DataFrame or Series through chained assignment using an inplace method.\n",
      "The behavior will change in pandas 3.0. This inplace method will never work because the intermediate object on which we are setting values always behaves as a copy.\n",
      "\n",
      "For example, when doing 'df[col].method(value, inplace=True)', try using 'df.method({col: value}, inplace=True)' or df[col] = df[col].method(value) instead, to perform the operation inplace on the original object.\n",
      "\n",
      "\n",
      "  data[\"DIRECTOR_facebook_likes\"].fillna(0,inplace=True)\n"
     ]
    }
   ],
   "source": [
    "# to replace only the empty value for one column you need to specify the column name\n",
    "import pandas as pd\n",
    "data=pd.read_csv('unclean_data.csv',encoding='latin1')\n",
    "data[\"DIRECTOR_facebook_likes\"].fillna(0,inplace=True)\n",
    "print(data.to_string())"
   ]
  },
  {
   "cell_type": "code",
   "execution_count": 21,
   "metadata": {},
   "outputs": [
    {
     "name": "stdout",
     "output_type": "stream",
     "text": [
      "                                     movie_title  num_critic_for_reviews    duration DIRECTOR_facebook_likes  actor_3_facebook_likes  ACTOR_1_facebook_likes      gross  num_voted_users  Cast_Total_facebook_likes  facenumber_in_poster  num_user_for_reviews     budget  title_year  ACTOR_2_facebook_likes  imdb_score  title_year.1\n",
      "0                                       Avatar?ÿ                     723  178.000000                      10                     855                    1000  760505847         886204.0                     4834.0                   NaN                  3054  237000000        2009                   936.0         7.9        2009.0\n",
      "1     Pirates of the Caribbean: At World's End?ÿ                     302  150.727273                     563                    1000                   40000  309404152         471220.0                    48350.0                   NaN                  1238  300000000        2007                  5000.0         7.1           NaN\n",
      "2                                      Spectre?ÿ                     602  148.000000                      20                     161                   11000  200074175         275868.0                    11700.0                   1.0                   994  245000000        2015                   393.0         6.8        2015.0\n",
      "3                        The Dark Knight Rises?ÿ                     813  150.727273                   22000                   23000                   27000  448130642        1144337.0                   106759.0                   NaN                  2701  250000000        2012                 23000.0         8.5           NaN\n",
      "4                                  John Carter?ÿ                     462  132.000000                   \"475\"                     530                     640   73058679         212204.0                     1873.0                   1.0                   738  263700000        2012                   632.0         6.6           NaN\n",
      "5                                 Spider-Man 3?ÿ                     392  156.000000                      23                    4000                   24000  336530303         383056.0                    46055.0                   NaN                  1902  258000000        2007                 11000.0         6.2        2007.0\n",
      "6                                      Tangled?ÿ                     324  150.727273                      15                     284                     799  200807262         294810.0                        NaN                   1.0                   387  260000000        2010                   553.0         7.8           NaN\n",
      "7                      Avengers: Age of Ultron?ÿ                     635  141.000000                      10                   19000                   26000  458991599         462669.0                    92000.0                   4.0                  1117  250000000        2015                 21000.0         7.5           NaN\n",
      "8                      Avengers: Age of Ultron?ÿ                     635  141.000000                      10                   19000                   26000  458991599         462669.0                    92000.0                   4.0                  1117  250000000        2015                 21000.0         7.5        2015.0\n",
      "9       Harry Potter and the Half-Blood Prince?ÿ                     375  153.000000                     282                   10000                   25000  301956980         321795.0                    58753.0                   3.0                   973  250000000        2009                 11000.0         7.5           NaN\n",
      "10          Batman v Superman: Dawn of Justice?ÿ                     673  183.000000                     NaN                    2000                   15000  330249062              NaN                    24450.0                   NaN                  3018  250000000        2016                     NaN         6.9        2016.0\n",
      "11                            Superman Returns?ÿ                     434  169.000000                     NaN                     903                   18000  200069408         240396.0                        NaN                   2.0                  2367  209000000        2006                 10000.0         6.1           NaN\n",
      "12                           Quantum of Solace?ÿ                     403  106.000000                     395                     393                     451  168368427         330784.0                     2023.0                   1.0                  1243  200000000        2008                   412.0         6.7        2008.0\n",
      "13  Pirates of the Caribbean: Dead Man's Chest?ÿ                     313  151.000000                     563                    1000                   40000  423032628         522040.0                    48486.0                   2.0                  1832  225000000        2006                  5000.0         7.3        2008.0\n"
     ]
    },
    {
     "name": "stderr",
     "output_type": "stream",
     "text": [
      "/var/folders/cz/jms94_kj7v552q9spmvhms3m0000gn/T/ipykernel_4098/816026064.py:6: FutureWarning: A value is trying to be set on a copy of a DataFrame or Series through chained assignment using an inplace method.\n",
      "The behavior will change in pandas 3.0. This inplace method will never work because the intermediate object on which we are setting values always behaves as a copy.\n",
      "\n",
      "For example, when doing 'df[col].method(value, inplace=True)', try using 'df.method({col: value}, inplace=True)' or df[col] = df[col].method(value) instead, to perform the operation inplace on the original object.\n",
      "\n",
      "\n",
      "  data[\"duration\"].fillna(calculated_mean,inplace=True)\n"
     ]
    }
   ],
   "source": [
    "# We can also replace the empty cell using mean(),mode() or median()\n",
    "# Calculate the mean and replace the empty values with it\n",
    "import pandas as pd\n",
    "data=pd.read_csv('unclean_data.csv',encoding='latin1')\n",
    "calculated_mean = data[\"duration\"].mean()\n",
    "data[\"duration\"].fillna(calculated_mean,inplace=True)\n",
    "print(data.to_string())"
   ]
  },
  {
   "cell_type": "code",
   "execution_count": 22,
   "metadata": {},
   "outputs": [
    {
     "name": "stdout",
     "output_type": "stream",
     "text": [
      "                                     movie_title  num_critic_for_reviews  duration DIRECTOR_facebook_likes  actor_3_facebook_likes  ACTOR_1_facebook_likes      gross  num_voted_users  Cast_Total_facebook_likes  facenumber_in_poster  num_user_for_reviews     budget  title_year  ACTOR_2_facebook_likes  imdb_score  title_year.1\n",
      "0                                       Avatar?ÿ                     723     178.0                      10                     855                    1000  760505847         886204.0                     4834.0                   NaN                  3054  237000000        2009                   936.0         7.9        2009.0\n",
      "1     Pirates of the Caribbean: At World's End?ÿ                     302     151.0                     563                    1000                   40000  309404152         471220.0                    48350.0                   NaN                  1238  300000000        2007                  5000.0         7.1           NaN\n",
      "2                                      Spectre?ÿ                     602     148.0                      20                     161                   11000  200074175         275868.0                    11700.0                   1.0                   994  245000000        2015                   393.0         6.8        2015.0\n",
      "3                        The Dark Knight Rises?ÿ                     813     151.0                   22000                   23000                   27000  448130642        1144337.0                   106759.0                   NaN                  2701  250000000        2012                 23000.0         8.5           NaN\n",
      "4                                  John Carter?ÿ                     462     132.0                   \"475\"                     530                     640   73058679         212204.0                     1873.0                   1.0                   738  263700000        2012                   632.0         6.6           NaN\n",
      "5                                 Spider-Man 3?ÿ                     392     156.0                      23                    4000                   24000  336530303         383056.0                    46055.0                   NaN                  1902  258000000        2007                 11000.0         6.2        2007.0\n",
      "6                                      Tangled?ÿ                     324     151.0                      15                     284                     799  200807262         294810.0                        NaN                   1.0                   387  260000000        2010                   553.0         7.8           NaN\n",
      "7                      Avengers: Age of Ultron?ÿ                     635     141.0                      10                   19000                   26000  458991599         462669.0                    92000.0                   4.0                  1117  250000000        2015                 21000.0         7.5           NaN\n",
      "8                      Avengers: Age of Ultron?ÿ                     635     141.0                      10                   19000                   26000  458991599         462669.0                    92000.0                   4.0                  1117  250000000        2015                 21000.0         7.5        2015.0\n",
      "9       Harry Potter and the Half-Blood Prince?ÿ                     375     153.0                     282                   10000                   25000  301956980         321795.0                    58753.0                   3.0                   973  250000000        2009                 11000.0         7.5           NaN\n",
      "10          Batman v Superman: Dawn of Justice?ÿ                     673     183.0                     NaN                    2000                   15000  330249062              NaN                    24450.0                   NaN                  3018  250000000        2016                     NaN         6.9        2016.0\n",
      "11                            Superman Returns?ÿ                     434     169.0                     NaN                     903                   18000  200069408         240396.0                        NaN                   2.0                  2367  209000000        2006                 10000.0         6.1           NaN\n",
      "12                           Quantum of Solace?ÿ                     403     106.0                     395                     393                     451  168368427         330784.0                     2023.0                   1.0                  1243  200000000        2008                   412.0         6.7        2008.0\n",
      "13  Pirates of the Caribbean: Dead Man's Chest?ÿ                     313     151.0                     563                    1000                   40000  423032628         522040.0                    48486.0                   2.0                  1832  225000000        2006                  5000.0         7.3        2008.0\n"
     ]
    },
    {
     "name": "stderr",
     "output_type": "stream",
     "text": [
      "/var/folders/cz/jms94_kj7v552q9spmvhms3m0000gn/T/ipykernel_4098/727184496.py:6: FutureWarning: A value is trying to be set on a copy of a DataFrame or Series through chained assignment using an inplace method.\n",
      "The behavior will change in pandas 3.0. This inplace method will never work because the intermediate object on which we are setting values always behaves as a copy.\n",
      "\n",
      "For example, when doing 'df[col].method(value, inplace=True)', try using 'df.method({col: value}, inplace=True)' or df[col] = df[col].method(value) instead, to perform the operation inplace on the original object.\n",
      "\n",
      "\n",
      "  data[\"duration\"].fillna(calculated_mean,inplace=True)\n"
     ]
    }
   ],
   "source": [
    "# We can also replace the empty cell using mean(),mode() or median()\n",
    "# Calculate the median and replace the empty values with it\n",
    "import pandas as pd\n",
    "data=pd.read_csv('unclean_data.csv',encoding='latin1')\n",
    "calculated_mean = data[\"duration\"].median()\n",
    "data[\"duration\"].fillna(calculated_mean,inplace=True)\n",
    "print(data.to_string())\n"
   ]
  },
  {
   "cell_type": "code",
   "execution_count": 24,
   "metadata": {},
   "outputs": [
    {
     "name": "stdout",
     "output_type": "stream",
     "text": [
      "                                     movie_title  num_critic_for_reviews  duration DIRECTOR_facebook_likes  actor_3_facebook_likes  ACTOR_1_facebook_likes      gross  num_voted_users  Cast_Total_facebook_likes  facenumber_in_poster  num_user_for_reviews     budget  title_year  ACTOR_2_facebook_likes  imdb_score  title_year.1\n",
      "0                                       Avatar?ÿ                     723     178.0                      10                     855                    1000  760505847         886204.0                     4834.0                   NaN                  3054  237000000        2009                   936.0         7.9        2009.0\n",
      "1     Pirates of the Caribbean: At World's End?ÿ                     302     141.0                     563                    1000                   40000  309404152         471220.0                    48350.0                   NaN                  1238  300000000        2007                  5000.0         7.1           NaN\n",
      "2                                      Spectre?ÿ                     602     148.0                      20                     161                   11000  200074175         275868.0                    11700.0                   1.0                   994  245000000        2015                   393.0         6.8        2015.0\n",
      "3                        The Dark Knight Rises?ÿ                     813     141.0                   22000                   23000                   27000  448130642        1144337.0                   106759.0                   NaN                  2701  250000000        2012                 23000.0         8.5           NaN\n",
      "4                                  John Carter?ÿ                     462     132.0                   \"475\"                     530                     640   73058679         212204.0                     1873.0                   1.0                   738  263700000        2012                   632.0         6.6           NaN\n",
      "5                                 Spider-Man 3?ÿ                     392     156.0                      23                    4000                   24000  336530303         383056.0                    46055.0                   NaN                  1902  258000000        2007                 11000.0         6.2        2007.0\n",
      "6                                      Tangled?ÿ                     324     141.0                      15                     284                     799  200807262         294810.0                        NaN                   1.0                   387  260000000        2010                   553.0         7.8           NaN\n",
      "7                      Avengers: Age of Ultron?ÿ                     635     141.0                      10                   19000                   26000  458991599         462669.0                    92000.0                   4.0                  1117  250000000        2015                 21000.0         7.5           NaN\n",
      "8                      Avengers: Age of Ultron?ÿ                     635     141.0                      10                   19000                   26000  458991599         462669.0                    92000.0                   4.0                  1117  250000000        2015                 21000.0         7.5        2015.0\n",
      "9       Harry Potter and the Half-Blood Prince?ÿ                     375     153.0                     282                   10000                   25000  301956980         321795.0                    58753.0                   3.0                   973  250000000        2009                 11000.0         7.5           NaN\n",
      "10          Batman v Superman: Dawn of Justice?ÿ                     673     183.0                     NaN                    2000                   15000  330249062              NaN                    24450.0                   NaN                  3018  250000000        2016                     NaN         6.9        2016.0\n",
      "11                            Superman Returns?ÿ                     434     169.0                     NaN                     903                   18000  200069408         240396.0                        NaN                   2.0                  2367  209000000        2006                 10000.0         6.1           NaN\n",
      "12                           Quantum of Solace?ÿ                     403     106.0                     395                     393                     451  168368427         330784.0                     2023.0                   1.0                  1243  200000000        2008                   412.0         6.7        2008.0\n",
      "13  Pirates of the Caribbean: Dead Man's Chest?ÿ                     313     151.0                     563                    1000                   40000  423032628         522040.0                    48486.0                   2.0                  1832  225000000        2006                  5000.0         7.3        2008.0\n"
     ]
    },
    {
     "name": "stderr",
     "output_type": "stream",
     "text": [
      "/var/folders/cz/jms94_kj7v552q9spmvhms3m0000gn/T/ipykernel_4098/3207947737.py:6: FutureWarning: A value is trying to be set on a copy of a DataFrame or Series through chained assignment using an inplace method.\n",
      "The behavior will change in pandas 3.0. This inplace method will never work because the intermediate object on which we are setting values always behaves as a copy.\n",
      "\n",
      "For example, when doing 'df[col].method(value, inplace=True)', try using 'df.method({col: value}, inplace=True)' or df[col] = df[col].method(value) instead, to perform the operation inplace on the original object.\n",
      "\n",
      "\n",
      "  data[\"duration\"].fillna(calculated_mean,inplace=True)\n"
     ]
    }
   ],
   "source": [
    "# We can also replace the empty cell using mean(),mode() or median()\n",
    "# Calculate the mode and replace the empty values with it\n",
    "import pandas as pd\n",
    "data=pd.read_csv('unclean_data.csv',encoding='latin1')\n",
    "calculated_mean = data[\"duration\"].mode()[0]\n",
    "# here we take indexing because it goes by iterating through indexes so we have to put an index in front of the mode() function\n",
    "data[\"duration\"].fillna(calculated_mean,inplace=True)\n",
    "print(data.to_string())"
   ]
  }
 ],
 "metadata": {
  "kernelspec": {
   "display_name": "Python 3",
   "language": "python",
   "name": "python3"
  },
  "language_info": {
   "codemirror_mode": {
    "name": "ipython",
    "version": 3
   },
   "file_extension": ".py",
   "mimetype": "text/x-python",
   "name": "python",
   "nbconvert_exporter": "python",
   "pygments_lexer": "ipython3",
   "version": "3.12.8"
  }
 },
 "nbformat": 4,
 "nbformat_minor": 2
}
