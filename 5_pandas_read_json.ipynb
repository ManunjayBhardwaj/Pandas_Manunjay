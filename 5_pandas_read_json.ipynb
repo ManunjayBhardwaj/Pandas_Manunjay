{
 "cells": [
  {
   "cell_type": "code",
   "execution_count": 2,
   "metadata": {},
   "outputs": [
    {
     "name": "stdout",
     "output_type": "stream",
     "text": [
      "                                                                                                                                        employees\n",
      "0  {'employee_id': 101, 'name': 'Alice Johnson', 'age': 30, 'department': 'Engineering', 'salary': 75000, 'projects': ['Project A', 'Project B']}\n",
      "1                            {'employee_id': 102, 'name': 'Bob Smith', 'age': 45, 'department': 'HR', 'salary': 50000, 'projects': ['Project C']}\n",
      "2    {'employee_id': 103, 'name': 'Charlie Brown', 'age': 29, 'department': 'Marketing', 'salary': 60000, 'projects': ['Project D', 'Project E']}\n",
      "3   {'employee_id': 104, 'name': 'Diana Prince', 'age': 35, 'department': 'Engineering', 'salary': 85000, 'projects': ['Project A', 'Project F']}\n",
      "4                        {'employee_id': 105, 'name': 'Ethan Hunt', 'age': 50, 'department': 'Sales', 'salary': 55000, 'projects': ['Project G']}\n",
      "5      {'employee_id': 106, 'name': 'Fiona Davis', 'age': 26, 'department': 'Marketing', 'salary': 58000, 'projects': ['Project E', 'Project H']}\n",
      "6                              {'employee_id': 107, 'name': 'George Miller', 'age': 40, 'department': 'Finance', 'salary': 70000, 'projects': []}\n",
      "7                           {'employee_id': 108, 'name': 'Hannah Lee', 'age': 32, 'department': 'HR', 'salary': 52000, 'projects': ['Project I']}\n",
      "8    {'employee_id': 109, 'name': 'Ian Fleming', 'age': 38, 'department': 'Engineering', 'salary': 90000, 'projects': ['Project A', 'Project J']}\n",
      "9             {'employee_id': 110, 'name': 'Jane Doe', 'age': 28, 'department': 'Sales', 'salary': 56000, 'projects': ['Project K', 'Project L']}\n"
     ]
    }
   ],
   "source": [
    "# JSON : Big data sets are normally stored and extracted as JSON. JSON is a plain text, but it has a format of an object\n",
    "import pandas as pd\n",
    "a=pd.read_json('sample.json')\n",
    "print(a.to_string())\n"
   ]
  },
  {
   "cell_type": "code",
   "execution_count": 8,
   "metadata": {},
   "outputs": [
    {
     "name": "stdout",
     "output_type": "stream",
     "text": [
      "Alice      Running\n",
      "Bob        Cycling\n",
      "Charlie       Yoga\n",
      "Name: name, dtype: object\n"
     ]
    }
   ],
   "source": [
    "# Dictionary as a JSON : if yor JSON code is not in a file but in a python dictionary , then you can do all below\n",
    "import pandas as pd\n",
    "data={\"Alice\":\n",
    "  {\n",
    "    \"activity_id\": 1,\n",
    "    \"name\": \"Running\",\n",
    "    \"duration_minutes\": 30,\n",
    "    \"calories_burned\": 300,\n",
    "    \"average_heart_rate\": 140,\n",
    "    \"date\": \"2023-01-01\",\n",
    "    \"user_name\": \"Alice Johnson\",\n",
    "    \"user_age\": 30,\n",
    "    \"user_gender\": \"Female\"\n",
    "  },\n",
    "  \"Bob\":\n",
    "  {\n",
    "    \"activity_id\": 2,\n",
    "    \"name\": \"Cycling\",\n",
    "    \"duration_minutes\": 45,\n",
    "    \"calories_burned\": 450,\n",
    "    \"average_heart_rate\": 135,\n",
    "    \"date\": \"2023-01-02\",\n",
    "    \"user_name\": \"Bob Smith\",\n",
    "    \"user_age\": 45,\n",
    "    \"user_gender\": \"Male\"\n",
    "  },\n",
    "  \"Charlie\":\n",
    "  {\n",
    "    \"activity_id\": 3,\n",
    "    \"name\": \"Yoga\",\n",
    "    \"duration_minutes\": 60,\n",
    "    \"calories_burned\": 200,\n",
    "    \"average_heart_rate\": 90,\n",
    "    \"date\": \"2023-01-03\",\n",
    "    \"user_name\": \"Charlie Brown\",\n",
    "    \"user_age\": 29,\n",
    "    \"user_gender\": \"Male\"\n",
    "  }\n",
    "}\n",
    "data1=pd.DataFrame(data)\n",
    "print(data1.loc[\"name\"])"
   ]
  }
 ],
 "metadata": {
  "kernelspec": {
   "display_name": "Python 3",
   "language": "python",
   "name": "python3"
  },
  "language_info": {
   "codemirror_mode": {
    "name": "ipython",
    "version": 3
   },
   "file_extension": ".py",
   "mimetype": "text/x-python",
   "name": "python",
   "nbconvert_exporter": "python",
   "pygments_lexer": "ipython3",
   "version": "3.12.8"
  }
 },
 "nbformat": 4,
 "nbformat_minor": 2
}
