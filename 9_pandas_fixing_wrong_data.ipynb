{
 "cells": [
  {
   "cell_type": "code",
   "execution_count": 19,
   "metadata": {},
   "outputs": [
    {
     "name": "stdout",
     "output_type": "stream",
     "text": [
      "    ID     Name      Age                Email     Join Date\n",
      "0    1    Alice       25    alice@example.com    2020-01-15\n",
      "1    2      Bob   Twenty          bob@example  Invalid Date\n",
      "2    3  Charlie       30  charlie@example.com    2021/03/25\n",
      "3    4    David       -5               david@    2019-30-02\n",
      "4    5      Eve       40       eveexample.com           NaN\n",
      "5    6    Frank      NaN    frank@example.com    2018-06-10\n",
      "6    7    Grace       28               grace@    2020-07-15\n",
      "7    8   Hannah       34   hannah@example.com       Invalid\n",
      "8    9      Ian       21          ian@example    2021/11/23\n",
      "9   10     Jack       18             jack.com    2019-10-25\n",
      "10  11     Kara       22     kara@example.com    2022-11-30\n",
      "11  12     Liam       33                liam@    2021/12/01\n",
      "12  13     Mona       27      monaexample.com  Wrong Format\n",
      "13  14     Nina  Unknown                nina@    2019-02-29\n",
      "14  15    Oscar       29        oscar@example    2018/01/10\n",
      "15  16     Paul       35     paul@example.com    2017-07-07\n",
      "16  17    Quinn  Invalid               quinn@    2016-08-15\n",
      "17  18   Rachel       24   rachel@example.com    2015/09/20\n",
      "18  19    Steve       31     steveexample.com    2014-10-10\n",
      "19  20     Tina       19     tina@example.com    2013-05-15\n",
      "<class 'pandas.core.series.Series'>\n"
     ]
    }
   ],
   "source": [
    "# Wrong data : \n",
    "import pandas as pd\n",
    "data=pd.read_csv('dirty_data_practice.csv',encoding='latin1')\n",
    "print(data.to_string())\n"
   ]
  },
  {
   "cell_type": "code",
   "execution_count": 41,
   "metadata": {},
   "outputs": [
    {
     "name": "stdout",
     "output_type": "stream",
     "text": [
      "    ID     Name      Age                Email     Join Date\n",
      "0    1    Alice       25    alice@example.com    2020-01-15\n",
      "1    2      Bob   Twenty          bob@example  Invalid Date\n",
      "2    3  Charlie       30  charlie@example.com    2021/03/25\n",
      "3    4    David        5               david@    2019-30-02\n",
      "4    5      Eve       40       eveexample.com           NaN\n",
      "5    6    Frank      NaN    frank@example.com    2018-06-10\n",
      "6    7    Grace       28               grace@    2020-07-15\n",
      "7    8   Hannah       34   hannah@example.com       Invalid\n",
      "8    9      Ian       21          ian@example    2021/11/23\n",
      "9   10     Jack       18             jack.com    2019-10-25\n",
      "10  11     Kara       22     kara@example.com    2022-11-30\n",
      "11  12     Liam       33                liam@    2021/12/01\n",
      "12  13     Mona       27      monaexample.com  Wrong Format\n",
      "13  14     Nina  Unknown                nina@    2019-02-29\n",
      "14  15    Oscar       29        oscar@example    2018/01/10\n",
      "15  16     Paul       35     paul@example.com    2017-07-07\n",
      "16  17    Quinn  Invalid               quinn@    2016-08-15\n",
      "17  18   Rachel       24   rachel@example.com    2015/09/20\n",
      "18  19    Steve       31     steveexample.com    2014-10-10\n",
      "19  20     Tina       19     tina@example.com    2013-05-15\n",
      "hello\n"
     ]
    },
    {
     "name": "stderr",
     "output_type": "stream",
     "text": [
      "/var/folders/cz/jms94_kj7v552q9spmvhms3m0000gn/T/ipykernel_4817/985594651.py:4: FutureWarning: ChainedAssignmentError: behaviour will change in pandas 3.0!\n",
      "You are setting values through chained assignment. Currently this works in certain cases, but when using Copy-on-Write (which will become the default behaviour in pandas 3.0) this will never work to update the original DataFrame or Series, because the intermediate object on which we are setting values will behave as a copy.\n",
      "A typical example is when you are setting values in a column of a DataFrame, like:\n",
      "\n",
      "df[\"col\"][row_indexer] = value\n",
      "\n",
      "Use `df.loc[row_indexer, \"col\"] = values` instead, to perform the assignment in a single step and ensure this keeps updating the original `df`.\n",
      "\n",
      "See the caveats in the documentation: https://pandas.pydata.org/pandas-docs/stable/user_guide/indexing.html#returning-a-view-versus-a-copy\n",
      "\n",
      "  data['Age'].loc[3]=5\n",
      "/var/folders/cz/jms94_kj7v552q9spmvhms3m0000gn/T/ipykernel_4817/985594651.py:4: SettingWithCopyWarning: \n",
      "A value is trying to be set on a copy of a slice from a DataFrame\n",
      "\n",
      "See the caveats in the documentation: https://pandas.pydata.org/pandas-docs/stable/user_guide/indexing.html#returning-a-view-versus-a-copy\n",
      "  data['Age'].loc[3]=5\n"
     ]
    }
   ],
   "source": [
    "# here we will set the age column on the 3rd column manually\n",
    "import pandas as pd\n",
    "data=pd.read_csv('dirty_data_practice.csv',encoding='latin1')\n",
    "data['Age'].loc[3]=5\n",
    "print(data.to_string())\n",
    "# in a small dataset we can easily find and replace values\n",
    "print(\"hello\")"
   ]
  },
  {
   "cell_type": "code",
   "execution_count": 47,
   "metadata": {},
   "outputs": [
    {
     "name": "stdout",
     "output_type": "stream",
     "text": [
      "    ID     Name   Age                Email     Join Date\n",
      "0    1    Alice  25.0    alice@example.com    2020-01-15\n",
      "2    3  Charlie  30.0  charlie@example.com    2021/03/25\n",
      "4    5      Eve  40.0       eveexample.com           NaN\n",
      "6    7    Grace  28.0               grace@    2020-07-15\n",
      "7    8   Hannah  34.0   hannah@example.com       Invalid\n",
      "10  11     Kara  22.0     kara@example.com    2022-11-30\n",
      "11  12     Liam  33.0                liam@    2021/12/01\n",
      "12  13     Mona  27.0      monaexample.com  Wrong Format\n",
      "14  15    Oscar  29.0        oscar@example    2018/01/10\n",
      "15  16     Paul  35.0     paul@example.com    2017-07-07\n",
      "17  18   Rachel  24.0   rachel@example.com    2015/09/20\n",
      "18  19    Steve  31.0     steveexample.com    2014-10-10\n"
     ]
    }
   ],
   "source": [
    "# For larger data sets: Now here we will look through all the values in the Age column\n",
    "# first we will clean the na values \n",
    "import pandas as pd\n",
    "data=pd.read_csv('dirty_data_practice.csv')\n",
    "data[\"Age\"]=pd.to_numeric(data[\"Age\"],errors=\"coerce\")\n",
    "# print(data)\n",
    "# now we will drop these NaN values using the dropna() function\n",
    "data.dropna(subset=[\"Age\"],inplace=True)\n",
    "# print(data.to_string())\n",
    "\n",
    "# Now for example we had the data of the people above 21 years of legal age\n",
    "data=data[data[\"Age\"]>21]# this line of code means it will diretly fill the data for the required scenario \n",
    "print(data.to_string())"
   ]
  },
  {
   "cell_type": "code",
   "execution_count": 63,
   "metadata": {},
   "outputs": [
    {
     "name": "stdout",
     "output_type": "stream",
     "text": [
      "    ID     Name   Age                Email     Join Date\n",
      "0    1    Alice  25.0    alice@example.com    2020-01-15\n",
      "2    3  Charlie  30.0  charlie@example.com    2021/03/25\n",
      "6    7    Grace  28.0               grace@    2020-07-15\n",
      "8    9      Ian  21.0          ian@example    2021/11/23\n",
      "9   10     Jack  18.0             jack.com    2019-10-25\n",
      "10  11     Kara  22.0     kara@example.com    2022-11-30\n",
      "12  13     Mona  27.0      monaexample.com  Wrong Format\n",
      "14  15    Oscar  29.0        oscar@example    2018/01/10\n",
      "17  18   Rachel  24.0   rachel@example.com    2015/09/20\n",
      "19  20     Tina  19.0     tina@example.com    2013-05-15\n"
     ]
    }
   ],
   "source": [
    "# For larger data sets: Now here we will look through all the values in the Age column\n",
    "# first we will clean the na values \n",
    "import pandas as pd\n",
    "data=pd.read_csv('dirty_data_practice.csv')\n",
    "data[\"Age\"]=pd.to_numeric(data[\"Age\"],errors=\"coerce\")\n",
    "# print(data)\n",
    "# now we will drop these NaN values using the dropna() function\n",
    "data.dropna(subset=[\"Age\"],inplace=True)\n",
    "# print(data.to_string())\n",
    "\n",
    "\n",
    "# For larger data sets looping is the best method\n",
    "# Now for filtering the age by iterating easily\n",
    "for i in data.index:\n",
    "    if data.loc[i,\"Age\"]>30 or data.loc[i,\"Age\"]<0:\n",
    "        data.drop(i,inplace=True)\n",
    "print(data.to_string())        \n",
    "\n",
    "# Now for example we had the data of the people above 21 years of legal age\n"
   ]
  },
  {
   "cell_type": "code",
   "execution_count": null,
   "metadata": {},
   "outputs": [],
   "source": []
  }
 ],
 "metadata": {
  "kernelspec": {
   "display_name": "Python [conda env:base] *",
   "language": "python",
   "name": "conda-base-py"
  },
  "language_info": {
   "codemirror_mode": {
    "name": "ipython",
    "version": 3
   },
   "file_extension": ".py",
   "mimetype": "text/x-python",
   "name": "python",
   "nbconvert_exporter": "python",
   "pygments_lexer": "ipython3",
   "version": "3.12.7"
  }
 },
 "nbformat": 4,
 "nbformat_minor": 4
}
